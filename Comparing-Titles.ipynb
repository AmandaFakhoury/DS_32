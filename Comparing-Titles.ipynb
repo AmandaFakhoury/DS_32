{
 "cells": [
  {
   "cell_type": "code",
   "execution_count": null,
   "metadata": {},
   "outputs": [],
   "source": [
    "#Importing Libraries\n",
    "import pandas as pd\n",
    "from fuzzywuzzy import fuzz \n",
    "from fuzzywuzzy import process "
   ]
  },
  {
   "cell_type": "code",
   "execution_count": null,
   "metadata": {},
   "outputs": [],
   "source": [
    "df = pd.read_csv(\"amazon_n1.csv\") #Reading in Saved Dataset\n",
    "#Filling NA Values in Subtitle and Series with None\n",
    "df['subtitle'].fillna(value = 'None' , inplace = True)\n",
    "df['Series'].fillna(value = 'None' , inplace = True) \n",
    "\n",
    "df = df[df['title'] != 'No Title'] #Removing Isbns with No Titles"
   ]
  },
  {
   "cell_type": "code",
   "execution_count": null,
   "metadata": {},
   "outputs": [],
   "source": [
    "#Creating a column that places prefix , subtitle and series together in order to compare it to the title given by the retail site \n",
    "title = []\n",
    "for i , j , k in zip(df['Title with Prefix'], df['subtitle'] , df['Series']):\n",
    "    \n",
    "    if (j == 'None') & (k == 'None'):\n",
    "        title.append(str(i))\n",
    "    elif (j == 'None') & (k == 'No Series'):\n",
    "        title.append(str(i))\n",
    "    elif (j == 'None') & (k == 'NONE'):\n",
    "        title.append(str(i))\n",
    "    \n",
    "    \n",
    "    elif (j == 'None') &(k != 'None'):\n",
    "        title.append(str(i) + ':' + str(k))\n",
    "        \n",
    "    elif (j == 'None') &(k != 'No Series'):\n",
    "        title.append(str(i) + ':' + str(k))\n",
    "        \n",
    "    elif (j == 'None') &(k != 'NONE'):\n",
    "        title.append(str(i) + ':' + str(k))\n",
    "        \n",
    "    elif (k == 'None') &(j != 'None'):\n",
    "        title.append(str(i) + ':' + str(j))\n",
    "    elif (k == 'NONE') & (j != 'None'):\n",
    "        title.append(str(i) + ':' + str(j))\n",
    "    elif (k == \"No Series\") & (j != 'None'):\n",
    "        title.append(str(i) + ':' + str(j))\n",
    "    \n",
    "    else: \n",
    "        title.append(str(i) + ':' + str(j) + '(' + str(k) + ')')\n",
    "        \n",
    "        \n",
    "df['Full_Title'] = title #adding column to data "
   ]
  },
  {
   "cell_type": "code",
   "execution_count": null,
   "metadata": {},
   "outputs": [],
   "source": [
    "eans = list(df['ean_13'].unique()) #Getting a list of titles \n",
    "#Getting a list of title , prefix , subtitle ,  and the full title from the column we added\n",
    "title = [] \n",
    "prefix = [] \n",
    "subtitle = [] \n",
    "fullTitle = []\n",
    "for i in eans: \n",
    "    d = df.loc[df['ean_13'] == i]\n",
    "    title.append(list(d['title'].unique())[0])\n",
    "    prefix.append(list(d['Title with Prefix'].unique())[0])\n",
    "    subtitle.append(list(d['subtitle'].unique())[0])\n",
    "    fullTitle.append(list(d['Full_Title'].unique())[0])"
   ]
  },
  {
   "cell_type": "code",
   "execution_count": null,
   "metadata": {},
   "outputs": [],
   "source": [
    "#Comparing title from retail site to title from publisher and getting a ratio \n",
    "ratio = [] \n",
    "for i , j in zip(title, fullTitle): \n",
    "    ratio.append(fuzz.partial_ratio(i, j))\n",
    "    \n",
    "    \n",
    "#Checking if prefix is in the title\n",
    "prefixcheck = [] \n",
    "for t , p in zip(title, prefix):\n",
    "    prefixcheck.append(p in t)\n",
    "    \n",
    "    \n",
    "#Checking if subtitle is in the title\n",
    "subcheck = [] \n",
    "for t , s in zip(title, subtitle):\n",
    "    subcheck.append(s in t)"
   ]
  },
  {
   "cell_type": "code",
   "execution_count": null,
   "metadata": {},
   "outputs": [],
   "source": [
    "#Tagging titles based on ratio \n",
    "label = [] \n",
    "for i in ratio: \n",
    "    if 26 <= i <= 50: \n",
    "        label.append(\"Urgent\")\n",
    "    elif 50 <= i <=  70: \n",
    "        label.append(\"Okay\")\n",
    "    elif 70 <=   i <= 85:\n",
    "        label.append(\"Moderate\")\n",
    "    else:\n",
    "        label.append(\"Great\")"
   ]
  },
  {
   "cell_type": "code",
   "execution_count": null,
   "metadata": {},
   "outputs": [],
   "source": [
    "#Getting avg price information for each isbn\n",
    "avg_listp = [] \n",
    "avg_salep = []\n",
    "avg_newp = [] \n",
    "avg_usdp = [] \n",
    "for i in eans: \n",
    "    d = df.loc[df['ean_13'] == i]\n",
    "    avg_listp.append(d['list_price'].mean())\n",
    "    avg_salep.append(d['for_sale_price'].mean())\n",
    "    avg_newp.append(d['new_price'].mean())\n",
    "    avg_usdp.append(d['USD MSR Price'].mean())\n",
    "    "
   ]
  },
  {
   "cell_type": "code",
   "execution_count": null,
   "metadata": {},
   "outputs": [],
   "source": [
    "#Putting data together \n",
    "data_1 = pd.DataFrame({'ean_13': eans, \n",
    "                    'Title': title, \n",
    "                     'FullTitle_publisher': fullTitle, \n",
    "                    'Prefix': prefix, \n",
    "                    'Subtitle': subtitle, \n",
    "                       'Avg_ListPrice': avg_listp, \n",
    "                       'Avg_ForSalePrice': avg_salep, \n",
    "                       'Avg_NewPrice': avg_newp, \n",
    "                       'Avg_USDPrice': avg_usdp,\n",
    "                    'PrefixCheck': prefixcheck, \n",
    "                    'SubtitleCheck': subcheck, \n",
    "                    'Similarity_Ratio': ratio,\n",
    "                       'Title_Label': label})\n"
   ]
  },
  {
   "cell_type": "code",
   "execution_count": null,
   "metadata": {},
   "outputs": [],
   "source": [
    "data_1.to_csv(\"Title_Check_amazon.csv\", index = False) #Saving Data "
   ]
  }
 ],
 "metadata": {
  "kernelspec": {
   "display_name": "Python 3",
   "language": "python",
   "name": "python3"
  },
  "language_info": {
   "codemirror_mode": {
    "name": "ipython",
    "version": 3
   },
   "file_extension": ".py",
   "mimetype": "text/x-python",
   "name": "python",
   "nbconvert_exporter": "python",
   "pygments_lexer": "ipython3",
   "version": "3.7.6"
  }
 },
 "nbformat": 4,
 "nbformat_minor": 4
}
