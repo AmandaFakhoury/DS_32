{
 "cells": [
  {
   "cell_type": "code",
   "execution_count": 1,
   "metadata": {},
   "outputs": [],
   "source": [
    "#Import Libraries\n",
    "import pandas as pd"
   ]
  },
  {
   "cell_type": "code",
   "execution_count": null,
   "metadata": {},
   "outputs": [],
   "source": [
    "df = pd.read_csv(\"eodproductdata.csv\") #Reading product\n",
    "prod = pd.read_csv(\"AmazonData.csv\") #reading data for specific provider (Amazon in this case)\n",
    "df_a = pd.merge(prod , df, on = 'ean_13') #Merging data"
   ]
  },
  {
   "cell_type": "code",
   "execution_count": null,
   "metadata": {},
   "outputs": [],
   "source": [
    "df_a[\"title\"].fillna(\"No Title\", inplace = True) #Filling NA in Title column with \"No Title\"\n",
    "eans = list(df['ean_13'].unique()) #list of titles "
   ]
  },
  {
   "cell_type": "code",
   "execution_count": null,
   "metadata": {},
   "outputs": [],
   "source": [
    "number_titles = [] \n",
    "for i in eans: \n",
    "    d = df.loc[df['ean_13'] == i]\n",
    "    number_titles.append(len(list(d.loc[d['ean_13'] == i]['title'].unique())))\n",
    "    \n",
    "d1 = pd.DataFrame({'ean_13': eans, \n",
    "                  'NumberofTitles': number_titles})"
   ]
  },
  {
   "cell_type": "code",
   "execution_count": null,
   "metadata": {},
   "outputs": [],
   "source": [
    "eans_1 = []\n",
    "eans_2 = [] \n",
    "eans_3 = [] \n",
    "eans_4 = [] \n",
    "for i , n in zip(eans , number_titles):\n",
    "    if n == 1:\n",
    "        eans_1.append(i)\n",
    "    elif n == 2: \n",
    "        eans_2.append(i)\n",
    "    elif n == 3: \n",
    "        eans_3.append(i)\n",
    "    else:\n",
    "        eans_4.append(i)"
   ]
  },
  {
   "cell_type": "code",
   "execution_count": null,
   "metadata": {},
   "outputs": [],
   "source": [
    "#Seperating Data by number of titles\n",
    "df1 = []\n",
    "for i in eans_1:\n",
    "    df1.append(df.loc[df['ean_13'] == i])"
   ]
  },
  {
   "cell_type": "code",
   "execution_count": null,
   "metadata": {},
   "outputs": [],
   "source": [
    "#Saving Data \n",
    "am1 = pd.concat(df1)\n",
    "am1.to_csv(\"amazon_n1.csv\", index = False)"
   ]
  }
 ],
 "metadata": {
  "kernelspec": {
   "display_name": "Python 3",
   "language": "python",
   "name": "python3"
  },
  "language_info": {
   "codemirror_mode": {
    "name": "ipython",
    "version": 3
   },
   "file_extension": ".py",
   "mimetype": "text/x-python",
   "name": "python",
   "nbconvert_exporter": "python",
   "pygments_lexer": "ipython3",
   "version": "3.7.6"
  }
 },
 "nbformat": 4,
 "nbformat_minor": 4
}
